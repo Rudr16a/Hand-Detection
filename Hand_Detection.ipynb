{
  "nbformat": 4,
  "nbformat_minor": 0,
  "metadata": {
    "colab": {
      "provenance": [],
      "gpuType": "T4",
      "authorship_tag": "ABX9TyNvaf9V6Q9hfNha54e2uCgm",
      "include_colab_link": true
    },
    "kernelspec": {
      "name": "python3",
      "display_name": "Python 3"
    },
    "language_info": {
      "name": "python"
    },
    "accelerator": "GPU"
  },
  "cells": [
    {
      "cell_type": "markdown",
      "metadata": {
        "id": "view-in-github",
        "colab_type": "text"
      },
      "source": [
        "<a href=\"https://colab.research.google.com/github/Rudr16a/Hand-Detection/blob/main/Hand_Detection.ipynb\" target=\"_parent\"><img src=\"https://colab.research.google.com/assets/colab-badge.svg\" alt=\"Open In Colab\"/></a>"
      ]
    },
    {
      "cell_type": "code",
      "source": [
        "import cv2\n",
        "import mediapipe as mp\n",
        "import time\n",
        "\n",
        "class Detector():\n",
        "    def __init__(self, static_image_mode=False, max_num_hands=2, model_complexity=1,\n",
        "               min_detection_confidence=0.5,min_tracking_confidence=0.5):\n",
        "\n",
        "        self.mode = static_image_mode\n",
        "        self.max_hands = max_num_hands\n",
        "        self.model_complexity = model_complexity\n",
        "        self.detection_confidence = min_detection_confidence\n",
        "        self.tracking_confidence = min_tracking_confidence\n",
        "\n",
        "        self.mp_hands = mp.solutions.hands\n",
        "        self.hands = self.mp_hands.Hands(self.mode, self.max_hands, self.model_complexity,\n",
        "                                            self.detection_confidence, self.tracking_confidence)\n",
        "\n",
        "        self.mp_draw = mp.solutions.drawing_utils\n",
        "        self.tips_id = [4, 8, 12, 16, 20]\n",
        "\n",
        "    def detect_func(self, img, draw=True):\n",
        "        image = cv2.cvtColor(img, cv2.COLOR_BGR2RGB)\n",
        "        image.flags.writeable = False\n",
        "\n",
        "        self.results = self.hands.process(image)\n",
        "\n",
        "        image.flags.writeable = True\n",
        "        image = cv2.cvtColor(image, cv2.COLOR_RGB2BGR)\n",
        "\n",
        "        if self.results.multi_hand_landmarks:\n",
        "            for hand_landmarks in self.results.multi_hand_landmarks:\n",
        "                if draw:\n",
        "                    self.mp_draw.draw_landmarks(img, hand_landmarks, self.mp_hands.HAND_CONNECTIONS)\n",
        "\n",
        "        return img\n",
        "\n",
        "    def position_detection(self, img, hand_num=0, draw=True):\n",
        "\n",
        "        self.landmarks_container = []\n",
        "\n",
        "        if self.results.multi_hand_landmarks:\n",
        "            hand = self.results.multi_hand_landmarks[hand_num]\n",
        "            for id, land_mark in enumerate(hand.landmark):\n",
        "                    # print(id, land_mark)\n",
        "                    height, width, channels = img.shape\n",
        "                    x_coordinate, y_coordinate = int(land_mark.x * width), int(land_mark.y * height)\n",
        "                    # print(id, x_coordinate, y_coordinate)\n",
        "                    self.landmarks_container.append([id, x_coordinate, y_coordinate])\n",
        "                    if draw:\n",
        "                        cv2.circle(img, (x_coordinate, y_coordinate), 10, (255, 0, 255), cv2.FILLED)\n",
        "\n",
        "        return self.landmarks_container\n",
        "\n",
        "    def track_finger(self):\n",
        "        self.fingers = []\n",
        "\n",
        "        # Tracking thumb\n",
        "        if self.landmarks_container[self.tips_id[0]][1] < self.landmarks_container[self.tips_id[0] - 1][1]:\n",
        "            self.fingers.append(1)\n",
        "        else:\n",
        "            self.fingers.append(0)\n",
        "\n",
        "        # Tracking fingers\n",
        "        for id in range(1, 5):\n",
        "            if self.landmarks_container[self.tips_id[id]][2] < self.landmarks_container[self.tips_id[id] - 2][2]:\n",
        "                self.fingers.append(1)\n",
        "            else:\n",
        "                self.fingers.append(0)\n",
        "\n",
        "        return self.fingers\n",
        "\n",
        "def main():\n",
        "    current_time = 0\n",
        "    past_time = 0\n",
        "    cap = cv2.VideoCapture(0)\n",
        "    detector = Detector()\n",
        "\n",
        "    while cap.isOpened():\n",
        "        _, img = cap.read()\n",
        "        img = detector.detect_func(img)\n",
        "        landmarks_list = detector.position_detection(img, draw=False)\n",
        "        if len(landmarks_list) != 0:\n",
        "            print(landmarks_list)\n",
        "            cv2.putText(img, \"Hand detected!\", (40, 60), cv2.FONT_HERSHEY_PLAIN, 1, (0, 255, 0), 2)\n",
        "\n",
        "        current_time = time.time()\n",
        "        frames_per_second = 1 / (current_time - past_time)\n",
        "        past_time = current_time\n",
        "\n",
        "        cv2.putText(img, f'FPS: {str(int(frames_per_second))}', (10, 30), cv2.FONT_HERSHEY_PLAIN, fontScale=1, color=(255, 0, 0), thickness=2)\n",
        "        cv2.imshow(\"Virtual Signature Portal\", img)\n",
        "        if cv2.waitKey(1) & 0xFF == ord('q'):\n",
        "            break\n",
        "\n",
        "    cap.release()\n",
        "    cv2.destroyAllWindows()\n",
        "\n",
        "if __name__ == \"__main__\":\n",
        "    main()"
      ],
      "metadata": {
        "id": "DAoA0zcqpVhe"
      },
      "execution_count": 3,
      "outputs": []
    },
    {
      "cell_type": "code",
      "source": [
        "!pip install mediapipe"
      ],
      "metadata": {
        "id": "1cvb2kSFpm5t",
        "colab": {
          "base_uri": "https://localhost:8080/"
        },
        "outputId": "01853963-afaf-4997-993e-807755154a76"
      },
      "execution_count": 2,
      "outputs": [
        {
          "output_type": "stream",
          "name": "stdout",
          "text": [
            "Collecting mediapipe\n",
            "  Downloading mediapipe-0.10.14-cp310-cp310-manylinux_2_17_x86_64.manylinux2014_x86_64.whl.metadata (9.7 kB)\n",
            "Requirement already satisfied: absl-py in /usr/local/lib/python3.10/dist-packages (from mediapipe) (1.4.0)\n",
            "Requirement already satisfied: attrs>=19.1.0 in /usr/local/lib/python3.10/dist-packages (from mediapipe) (24.2.0)\n",
            "Requirement already satisfied: flatbuffers>=2.0 in /usr/local/lib/python3.10/dist-packages (from mediapipe) (24.3.25)\n",
            "Requirement already satisfied: jax in /usr/local/lib/python3.10/dist-packages (from mediapipe) (0.4.26)\n",
            "Requirement already satisfied: jaxlib in /usr/local/lib/python3.10/dist-packages (from mediapipe) (0.4.26+cuda12.cudnn89)\n",
            "Requirement already satisfied: matplotlib in /usr/local/lib/python3.10/dist-packages (from mediapipe) (3.7.1)\n",
            "Requirement already satisfied: numpy in /usr/local/lib/python3.10/dist-packages (from mediapipe) (1.26.4)\n",
            "Requirement already satisfied: opencv-contrib-python in /usr/local/lib/python3.10/dist-packages (from mediapipe) (4.10.0.84)\n",
            "Collecting protobuf<5,>=4.25.3 (from mediapipe)\n",
            "  Downloading protobuf-4.25.4-cp37-abi3-manylinux2014_x86_64.whl.metadata (541 bytes)\n",
            "Collecting sounddevice>=0.4.4 (from mediapipe)\n",
            "  Downloading sounddevice-0.4.7-py3-none-any.whl.metadata (1.4 kB)\n",
            "Requirement already satisfied: CFFI>=1.0 in /usr/local/lib/python3.10/dist-packages (from sounddevice>=0.4.4->mediapipe) (1.17.0)\n",
            "Requirement already satisfied: ml-dtypes>=0.2.0 in /usr/local/lib/python3.10/dist-packages (from jax->mediapipe) (0.4.0)\n",
            "Requirement already satisfied: opt-einsum in /usr/local/lib/python3.10/dist-packages (from jax->mediapipe) (3.3.0)\n",
            "Requirement already satisfied: scipy>=1.9 in /usr/local/lib/python3.10/dist-packages (from jax->mediapipe) (1.13.1)\n",
            "Requirement already satisfied: contourpy>=1.0.1 in /usr/local/lib/python3.10/dist-packages (from matplotlib->mediapipe) (1.2.1)\n",
            "Requirement already satisfied: cycler>=0.10 in /usr/local/lib/python3.10/dist-packages (from matplotlib->mediapipe) (0.12.1)\n",
            "Requirement already satisfied: fonttools>=4.22.0 in /usr/local/lib/python3.10/dist-packages (from matplotlib->mediapipe) (4.53.1)\n",
            "Requirement already satisfied: kiwisolver>=1.0.1 in /usr/local/lib/python3.10/dist-packages (from matplotlib->mediapipe) (1.4.5)\n",
            "Requirement already satisfied: packaging>=20.0 in /usr/local/lib/python3.10/dist-packages (from matplotlib->mediapipe) (24.1)\n",
            "Requirement already satisfied: pillow>=6.2.0 in /usr/local/lib/python3.10/dist-packages (from matplotlib->mediapipe) (9.4.0)\n",
            "Requirement already satisfied: pyparsing>=2.3.1 in /usr/local/lib/python3.10/dist-packages (from matplotlib->mediapipe) (3.1.2)\n",
            "Requirement already satisfied: python-dateutil>=2.7 in /usr/local/lib/python3.10/dist-packages (from matplotlib->mediapipe) (2.8.2)\n",
            "Requirement already satisfied: pycparser in /usr/local/lib/python3.10/dist-packages (from CFFI>=1.0->sounddevice>=0.4.4->mediapipe) (2.22)\n",
            "Requirement already satisfied: six>=1.5 in /usr/local/lib/python3.10/dist-packages (from python-dateutil>=2.7->matplotlib->mediapipe) (1.16.0)\n",
            "Downloading mediapipe-0.10.14-cp310-cp310-manylinux_2_17_x86_64.manylinux2014_x86_64.whl (35.7 MB)\n",
            "\u001b[2K   \u001b[90m━━━━━━━━━━━━━━━━━━━━━━━━━━━━━━━━━━━━━━━━\u001b[0m \u001b[32m35.7/35.7 MB\u001b[0m \u001b[31m31.4 MB/s\u001b[0m eta \u001b[36m0:00:00\u001b[0m\n",
            "\u001b[?25hDownloading protobuf-4.25.4-cp37-abi3-manylinux2014_x86_64.whl (294 kB)\n",
            "\u001b[2K   \u001b[90m━━━━━━━━━━━━━━━━━━━━━━━━━━━━━━━━━━━━━━━━\u001b[0m \u001b[32m294.6/294.6 kB\u001b[0m \u001b[31m29.1 MB/s\u001b[0m eta \u001b[36m0:00:00\u001b[0m\n",
            "\u001b[?25hDownloading sounddevice-0.4.7-py3-none-any.whl (32 kB)\n",
            "Installing collected packages: protobuf, sounddevice, mediapipe\n",
            "  Attempting uninstall: protobuf\n",
            "    Found existing installation: protobuf 3.20.3\n",
            "    Uninstalling protobuf-3.20.3:\n",
            "      Successfully uninstalled protobuf-3.20.3\n",
            "\u001b[31mERROR: pip's dependency resolver does not currently take into account all the packages that are installed. This behaviour is the source of the following dependency conflicts.\n",
            "tensorflow-metadata 1.15.0 requires protobuf<4.21,>=3.20.3; python_version < \"3.11\", but you have protobuf 4.25.4 which is incompatible.\u001b[0m\u001b[31m\n",
            "\u001b[0mSuccessfully installed mediapipe-0.10.14 protobuf-4.25.4 sounddevice-0.4.7\n"
          ]
        }
      ]
    },
    {
      "cell_type": "code",
      "source": [],
      "metadata": {
        "id": "5opE2Pns-Xnx"
      },
      "execution_count": null,
      "outputs": []
    }
  ]
}